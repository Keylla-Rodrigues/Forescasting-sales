{
 "cells": [
  {
   "cell_type": "markdown",
   "id": "24481526",
   "metadata": {},
   "source": [
    "### Projeto analise de series temporais utilizando dados de vendas\n",
    "\n",
    "Objetivo: prever vendas utilizando dados de vendas ocorridas no período de 2016-06-01 to 2022-01-01\n",
    "\n",
    "##IMPORTACAO DOS DADOS\n",
    "    Importar a tabela\n",
    "\n",
    "##TRATAMENTO DOS DADOS\n",
    "\n",
    "##ANALISE DOS DADOS\n",
    "    \n",
    "       \n",
    "##CONSTRUCAO DOS GRAFICOS DE SERIES TEMPORAIS: \n",
    "    Tendencia, sazonalidade, etc e modelo.  "
   ]
  },
  {
   "cell_type": "code",
   "execution_count": 2,
   "id": "f8925858",
   "metadata": {},
   "outputs": [
    {
     "data": {
      "text/html": [
       "<div>\n",
       "<style scoped>\n",
       "    .dataframe tbody tr th:only-of-type {\n",
       "        vertical-align: middle;\n",
       "    }\n",
       "\n",
       "    .dataframe tbody tr th {\n",
       "        vertical-align: top;\n",
       "    }\n",
       "\n",
       "    .dataframe thead th {\n",
       "        text-align: right;\n",
       "    }\n",
       "</style>\n",
       "<table border=\"1\" class=\"dataframe\">\n",
       "  <thead>\n",
       "    <tr style=\"text-align: right;\">\n",
       "      <th></th>\n",
       "      <th>Custno</th>\n",
       "      <th>Invdate</th>\n",
       "      <th>year</th>\n",
       "      <th>yearmonth</th>\n",
       "      <th>Invoice</th>\n",
       "      <th>SONO</th>\n",
       "      <th>Partno</th>\n",
       "      <th>descript</th>\n",
       "      <th>prodcl</th>\n",
       "      <th>Product Class</th>\n",
       "      <th>soldby</th>\n",
       "      <th>txnprice</th>\n",
       "      <th>Cur</th>\n",
       "      <th>Rate</th>\n",
       "      <th>totprice</th>\n",
       "    </tr>\n",
       "  </thead>\n",
       "  <tbody>\n",
       "    <tr>\n",
       "      <th>0</th>\n",
       "      <td>294</td>\n",
       "      <td>2016-06-26</td>\n",
       "      <td>2016</td>\n",
       "      <td>2016-06</td>\n",
       "      <td>80956</td>\n",
       "      <td>70993.0</td>\n",
       "      <td>JSE8500</td>\n",
       "      <td>MACHINE GLAZE SPRAYER ECONOMY</td>\n",
       "      <td>72</td>\n",
       "      <td>Jelly Sprayer</td>\n",
       "      <td>HA</td>\n",
       "      <td>0.0000</td>\n",
       "      <td>CAN</td>\n",
       "      <td>1.000000</td>\n",
       "      <td>3890.00</td>\n",
       "    </tr>\n",
       "    <tr>\n",
       "      <th>1</th>\n",
       "      <td>2584</td>\n",
       "      <td>2016-06-27</td>\n",
       "      <td>2016</td>\n",
       "      <td>2016-06</td>\n",
       "      <td>80972</td>\n",
       "      <td>70435.0</td>\n",
       "      <td>COM1000iSV-EU-B</td>\n",
       "      <td>CAKEOMATIC 1000iSV - DEPOSIT EU</td>\n",
       "      <td>17</td>\n",
       "      <td>Cake-o-Matic</td>\n",
       "      <td>RO</td>\n",
       "      <td>0.0000</td>\n",
       "      <td>CAN</td>\n",
       "      <td>1.000000</td>\n",
       "      <td>21628.50</td>\n",
       "    </tr>\n",
       "    <tr>\n",
       "      <th>2</th>\n",
       "      <td>2584</td>\n",
       "      <td>2016-06-27</td>\n",
       "      <td>2016</td>\n",
       "      <td>2016-06</td>\n",
       "      <td>80972</td>\n",
       "      <td>70435.0</td>\n",
       "      <td>UVL1000iSV</td>\n",
       "      <td>UNIVERSAL 1000iSV</td>\n",
       "      <td>10</td>\n",
       "      <td>Universal</td>\n",
       "      <td>RO</td>\n",
       "      <td>0.0000</td>\n",
       "      <td>CAN</td>\n",
       "      <td>1.000000</td>\n",
       "      <td>27338.37</td>\n",
       "    </tr>\n",
       "    <tr>\n",
       "      <th>3</th>\n",
       "      <td>1258</td>\n",
       "      <td>2016-06-28</td>\n",
       "      <td>2016</td>\n",
       "      <td>2016-06</td>\n",
       "      <td>80975</td>\n",
       "      <td>70457.0</td>\n",
       "      <td>CDT3010SV-EU</td>\n",
       "      <td>COMPACT TABLETOP - SV EU NO-TABLE</td>\n",
       "      <td>34</td>\n",
       "      <td>Compact</td>\n",
       "      <td>MH</td>\n",
       "      <td>4486.7846</td>\n",
       "      <td>EUR</td>\n",
       "      <td>0.729927</td>\n",
       "      <td>6146.90</td>\n",
       "    </tr>\n",
       "    <tr>\n",
       "      <th>4</th>\n",
       "      <td>1258</td>\n",
       "      <td>2016-06-28</td>\n",
       "      <td>2016</td>\n",
       "      <td>2016-06</td>\n",
       "      <td>80975</td>\n",
       "      <td>70457.0</td>\n",
       "      <td>CDT3010SV-EU</td>\n",
       "      <td>COMPACT TABLETOP - SV EU NO-TABLE</td>\n",
       "      <td>34</td>\n",
       "      <td>Compact</td>\n",
       "      <td>MH</td>\n",
       "      <td>4486.7846</td>\n",
       "      <td>EUR</td>\n",
       "      <td>0.729927</td>\n",
       "      <td>6146.90</td>\n",
       "    </tr>\n",
       "  </tbody>\n",
       "</table>\n",
       "</div>"
      ],
      "text/plain": [
       "   Custno    Invdate  year yearmonth  Invoice     SONO  \\\n",
       "0     294 2016-06-26  2016   2016-06    80956  70993.0   \n",
       "1    2584 2016-06-27  2016   2016-06    80972  70435.0   \n",
       "2    2584 2016-06-27  2016   2016-06    80972  70435.0   \n",
       "3    1258 2016-06-28  2016   2016-06    80975  70457.0   \n",
       "4    1258 2016-06-28  2016   2016-06    80975  70457.0   \n",
       "\n",
       "                      Partno                           descript prodcl  \\\n",
       "0  JSE8500                        MACHINE GLAZE SPRAYER ECONOMY     72   \n",
       "1  COM1000iSV-EU-B              CAKEOMATIC 1000iSV - DEPOSIT EU     17   \n",
       "2  UVL1000iSV                                 UNIVERSAL 1000iSV     10   \n",
       "3  CDT3010SV-EU               COMPACT TABLETOP - SV EU NO-TABLE     34   \n",
       "4  CDT3010SV-EU               COMPACT TABLETOP - SV EU NO-TABLE     34   \n",
       "\n",
       "   Product Class soldby   txnprice  Cur      Rate  totprice  \n",
       "0  Jelly Sprayer    HA      0.0000  CAN  1.000000   3890.00  \n",
       "1   Cake-o-Matic    RO      0.0000  CAN  1.000000  21628.50  \n",
       "2      Universal    RO      0.0000  CAN  1.000000  27338.37  \n",
       "3        Compact    MH   4486.7846  EUR  0.729927   6146.90  \n",
       "4        Compact    MH   4486.7846  EUR  0.729927   6146.90  "
      ]
     },
     "execution_count": 2,
     "metadata": {},
     "output_type": "execute_result"
    }
   ],
   "source": [
    "# Importar a tabela de dados\n",
    "\n",
    "import pandas as pd\n",
    "df = pd.read_excel(r\"MachineOrders03.xlsx\")\n",
    "df.head()\n",
    "#display(df)"
   ]
  },
  {
   "cell_type": "code",
   "execution_count": 3,
   "id": "6c609869",
   "metadata": {},
   "outputs": [
    {
     "data": {
      "text/html": [
       "<div>\n",
       "<style scoped>\n",
       "    .dataframe tbody tr th:only-of-type {\n",
       "        vertical-align: middle;\n",
       "    }\n",
       "\n",
       "    .dataframe tbody tr th {\n",
       "        vertical-align: top;\n",
       "    }\n",
       "\n",
       "    .dataframe thead th {\n",
       "        text-align: right;\n",
       "    }\n",
       "</style>\n",
       "<table border=\"1\" class=\"dataframe\">\n",
       "  <thead>\n",
       "    <tr style=\"text-align: right;\">\n",
       "      <th></th>\n",
       "      <th>yearmonth</th>\n",
       "      <th>totprice</th>\n",
       "    </tr>\n",
       "  </thead>\n",
       "  <tbody>\n",
       "    <tr>\n",
       "      <th>0</th>\n",
       "      <td>2016-06</td>\n",
       "      <td>3890.00</td>\n",
       "    </tr>\n",
       "    <tr>\n",
       "      <th>1</th>\n",
       "      <td>2016-06</td>\n",
       "      <td>21628.50</td>\n",
       "    </tr>\n",
       "    <tr>\n",
       "      <th>2</th>\n",
       "      <td>2016-06</td>\n",
       "      <td>27338.37</td>\n",
       "    </tr>\n",
       "    <tr>\n",
       "      <th>3</th>\n",
       "      <td>2016-06</td>\n",
       "      <td>6146.90</td>\n",
       "    </tr>\n",
       "    <tr>\n",
       "      <th>4</th>\n",
       "      <td>2016-06</td>\n",
       "      <td>6146.90</td>\n",
       "    </tr>\n",
       "    <tr>\n",
       "      <th>...</th>\n",
       "      <td>...</td>\n",
       "      <td>...</td>\n",
       "    </tr>\n",
       "    <tr>\n",
       "      <th>6197</th>\n",
       "      <td>2022-01</td>\n",
       "      <td>35206.27</td>\n",
       "    </tr>\n",
       "    <tr>\n",
       "      <th>6198</th>\n",
       "      <td>2022-01</td>\n",
       "      <td>69353.79</td>\n",
       "    </tr>\n",
       "    <tr>\n",
       "      <th>6199</th>\n",
       "      <td>2022-01</td>\n",
       "      <td>74265.18</td>\n",
       "    </tr>\n",
       "    <tr>\n",
       "      <th>6200</th>\n",
       "      <td>2022-01</td>\n",
       "      <td>13780.80</td>\n",
       "    </tr>\n",
       "    <tr>\n",
       "      <th>6201</th>\n",
       "      <td>2022-01</td>\n",
       "      <td>115568.65</td>\n",
       "    </tr>\n",
       "  </tbody>\n",
       "</table>\n",
       "<p>6202 rows × 2 columns</p>\n",
       "</div>"
      ],
      "text/plain": [
       "     yearmonth   totprice\n",
       "0      2016-06    3890.00\n",
       "1      2016-06   21628.50\n",
       "2      2016-06   27338.37\n",
       "3      2016-06    6146.90\n",
       "4      2016-06    6146.90\n",
       "...        ...        ...\n",
       "6197   2022-01   35206.27\n",
       "6198   2022-01   69353.79\n",
       "6199   2022-01   74265.18\n",
       "6200   2022-01   13780.80\n",
       "6201   2022-01  115568.65\n",
       "\n",
       "[6202 rows x 2 columns]"
      ]
     },
     "metadata": {},
     "output_type": "display_data"
    }
   ],
   "source": [
    "# Deletar as colunas q nao necessarias\n",
    "\n",
    "df = df.drop([\"Custno\", \"Invdate\", \"year\", \"Invoice\", \"SONO\", \"Partno\",\"descript\", \"prodcl\", \"Product Class\", \"soldby\",\"txnprice\", \"Cur\", \"Rate\"], axis = 1) \n",
    "display(df)"
   ]
  },
  {
   "cell_type": "code",
   "execution_count": 4,
   "id": "3689367f",
   "metadata": {},
   "outputs": [
    {
     "name": "stdout",
     "output_type": "stream",
     "text": [
      "<class 'pandas.core.frame.DataFrame'>\n",
      "RangeIndex: 6202 entries, 0 to 6201\n",
      "Data columns (total 2 columns):\n",
      " #   Column     Non-Null Count  Dtype  \n",
      "---  ------     --------------  -----  \n",
      " 0   yearmonth  6202 non-null   object \n",
      " 1   totprice   6202 non-null   float64\n",
      "dtypes: float64(1), object(1)\n",
      "memory usage: 97.0+ KB\n"
     ]
    }
   ],
   "source": [
    "df.info()\n",
    "\n",
    "#df.dtypes\n",
    "#df.columns  \n",
    "#list(df.columns) #print(df.isna().sum()) -> mostra qtde celulas vazias"
   ]
  },
  {
   "cell_type": "code",
   "execution_count": 5,
   "id": "c8d67aab",
   "metadata": {},
   "outputs": [
    {
     "data": {
      "text/plain": [
       "0      2016-06-01\n",
       "1      2016-06-01\n",
       "2      2016-06-01\n",
       "3      2016-06-01\n",
       "4      2016-06-01\n",
       "          ...    \n",
       "6197   2022-01-01\n",
       "6198   2022-01-01\n",
       "6199   2022-01-01\n",
       "6200   2022-01-01\n",
       "6201   2022-01-01\n",
       "Name: yearmonth, Length: 6202, dtype: datetime64[ns]"
      ]
     },
     "execution_count": 5,
     "metadata": {},
     "output_type": "execute_result"
    }
   ],
   "source": [
    "pd.to_datetime(df.yearmonth)\n"
   ]
  },
  {
   "cell_type": "code",
   "execution_count": 6,
   "id": "791030d3",
   "metadata": {},
   "outputs": [
    {
     "name": "stdout",
     "output_type": "stream",
     "text": [
      "<class 'pandas.core.frame.DataFrame'>\n",
      "RangeIndex: 6202 entries, 0 to 6201\n",
      "Data columns (total 2 columns):\n",
      " #   Column     Non-Null Count  Dtype         \n",
      "---  ------     --------------  -----         \n",
      " 0   yearmonth  6202 non-null   datetime64[ns]\n",
      " 1   totprice   6202 non-null   float64       \n",
      "dtypes: datetime64[ns](1), float64(1)\n",
      "memory usage: 97.0 KB\n"
     ]
    }
   ],
   "source": [
    "#pd.to_datetime(df.yearmonth) # = object -> transf. eh a conversao da coluna yearmonth p/datetime usando df.set\n",
    "#nessa transf. ele definiu tdo como dia 1 ja q nao tem dia\n",
    "#nesse codigo acima, o dataframe n foi alterado. Entao o codigo abaxio jogara essa alteracao na mesma coluna\n",
    "\n",
    "df.yearmonth = pd.to_datetime(df.yearmonth) \n",
    "df.info()"
   ]
  },
  {
   "cell_type": "code",
   "execution_count": 7,
   "id": "dfe32b3f",
   "metadata": {},
   "outputs": [],
   "source": [
    "#agora transf essa nova coluna yearmonth para ser o indice \n",
    "df.set_index(\"yearmonth\", inplace=True)\n"
   ]
  },
  {
   "cell_type": "code",
   "execution_count": 8,
   "id": "0368912b",
   "metadata": {},
   "outputs": [
    {
     "name": "stdout",
     "output_type": "stream",
     "text": [
      "<class 'pandas.core.frame.DataFrame'>\n",
      "DatetimeIndex: 6202 entries, 2016-06-01 to 2022-01-01\n",
      "Data columns (total 1 columns):\n",
      " #   Column    Non-Null Count  Dtype  \n",
      "---  ------    --------------  -----  \n",
      " 0   totprice  6202 non-null   float64\n",
      "dtypes: float64(1)\n",
      "memory usage: 96.9 KB\n"
     ]
    }
   ],
   "source": [
    "df.info() # com essa transf. q antes era RangeIndex agora se tornou DatetimeIndex. Periodo:2016-06-01 a 2022-01-01\n"
   ]
  },
  {
   "cell_type": "code",
   "execution_count": 17,
   "id": "b524e180",
   "metadata": {},
   "outputs": [
    {
     "data": {
      "text/html": [
       "<div>\n",
       "<style scoped>\n",
       "    .dataframe tbody tr th:only-of-type {\n",
       "        vertical-align: middle;\n",
       "    }\n",
       "\n",
       "    .dataframe tbody tr th {\n",
       "        vertical-align: top;\n",
       "    }\n",
       "\n",
       "    .dataframe thead th {\n",
       "        text-align: right;\n",
       "    }\n",
       "</style>\n",
       "<table border=\"1\" class=\"dataframe\">\n",
       "  <thead>\n",
       "    <tr style=\"text-align: right;\">\n",
       "      <th></th>\n",
       "      <th>totprice</th>\n",
       "    </tr>\n",
       "  </thead>\n",
       "  <tbody>\n",
       "    <tr>\n",
       "      <th>count</th>\n",
       "      <td>6202.0</td>\n",
       "    </tr>\n",
       "    <tr>\n",
       "      <th>mean</th>\n",
       "      <td>22644.0</td>\n",
       "    </tr>\n",
       "    <tr>\n",
       "      <th>std</th>\n",
       "      <td>32288.0</td>\n",
       "    </tr>\n",
       "    <tr>\n",
       "      <th>min</th>\n",
       "      <td>2004.0</td>\n",
       "    </tr>\n",
       "    <tr>\n",
       "      <th>25%</th>\n",
       "      <td>8538.0</td>\n",
       "    </tr>\n",
       "    <tr>\n",
       "      <th>50%</th>\n",
       "      <td>12979.0</td>\n",
       "    </tr>\n",
       "    <tr>\n",
       "      <th>75%</th>\n",
       "      <td>23513.0</td>\n",
       "    </tr>\n",
       "    <tr>\n",
       "      <th>max</th>\n",
       "      <td>730000.0</td>\n",
       "    </tr>\n",
       "  </tbody>\n",
       "</table>\n",
       "</div>"
      ],
      "text/plain": [
       "       totprice\n",
       "count    6202.0\n",
       "mean    22644.0\n",
       "std     32288.0\n",
       "min      2004.0\n",
       "25%      8538.0\n",
       "50%     12979.0\n",
       "75%     23513.0\n",
       "max    730000.0"
      ]
     },
     "execution_count": 17,
     "metadata": {},
     "output_type": "execute_result"
    }
   ],
   "source": [
    "round(df.describe())"
   ]
  },
  {
   "cell_type": "code",
   "execution_count": 10,
   "id": "149f4d2d",
   "metadata": {},
   "outputs": [],
   "source": [
    "#excluir outlier"
   ]
  },
  {
   "cell_type": "code",
   "execution_count": 18,
   "id": "ffc437c9",
   "metadata": {
    "scrolled": true
   },
   "outputs": [
    {
     "data": {
      "text/plain": [
       "<AxesSubplot:xlabel='yearmonth'>"
      ]
     },
     "execution_count": 18,
     "metadata": {},
     "output_type": "execute_result"
    },
    {
     "data": {
      "image/png": "[encoded data removed]",
      "text/plain": [
       "<Figure size 720x432 with 1 Axes>"
      ]
     },
     "metadata": {
      "needs_background": "light"
     },
     "output_type": "display_data"
    }
   ],
   "source": [
    "df[\"totprice\"].plot(figsize=(10,6))\n"
   ]
  },
  {
   "cell_type": "code",
   "execution_count": null,
   "id": "e046e54b",
   "metadata": {},
   "outputs": [],
   "source": []
  }
 ],
 "metadata": {
  "kernelspec": {
   "display_name": "Python 3",
   "language": "python",
   "name": "python3"
  },
  "language_info": {
   "codemirror_mode": {
    "name": "ipython",
    "version": 3
   },
   "file_extension": ".py",
   "mimetype": "text/x-python",
   "name": "python",
   "nbconvert_exporter": "python",
   "pygments_lexer": "ipython3",
   "version": "3.8.8"
  }
 },
 "nbformat": 4,
 "nbformat_minor": 5
}
