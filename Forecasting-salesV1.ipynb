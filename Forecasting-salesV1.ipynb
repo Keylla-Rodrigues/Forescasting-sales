{
 "cells": [
  {
   "cell_type": "markdown",
   "id": "24481526",
   "metadata": {},
   "source": [
    "### Projeto analise de series temporais utilizando dados de vendas\n",
    "\n",
    "Objetivo: prever vendas utilizando dados de vendas ocorridas no período de 2016-06-01 to 2022-01-01\n",
    "\n",
    "##IMPORTACAO DOS DADOS\n",
    "    Importar a tabela\n",
    "\n",
    "##TRATAMENTO DOS DADOS\n",
    "\n",
    "##ANALISE DOS DADOS\n",
    "    \n",
    "       \n",
    "##CONSTRUCAO DOS GRAFICOS DE SERIES TEMPORAIS: \n",
    "    Tendencia, sazonalidade, etc e modelo.  "
   ]
  },
  {
   "cell_type": "code",
   "execution_count": 1,
   "id": "f8925858",
   "metadata": {},
   "outputs": [
    {
     "data": {
      "text/html": [
       "<div>\n",
       "<style scoped>\n",
       "    .dataframe tbody tr th:only-of-type {\n",
       "        vertical-align: middle;\n",
       "    }\n",
       "\n",
       "    .dataframe tbody tr th {\n",
       "        vertical-align: top;\n",
       "    }\n",
       "\n",
       "    .dataframe thead th {\n",
       "        text-align: right;\n",
       "    }\n",
       "</style>\n",
       "<table border=\"1\" class=\"dataframe\">\n",
       "  <thead>\n",
       "    <tr style=\"text-align: right;\">\n",
       "      <th></th>\n",
       "      <th>Custno</th>\n",
       "      <th>Invdate</th>\n",
       "      <th>year</th>\n",
       "      <th>yearmonth</th>\n",
       "      <th>Invoice</th>\n",
       "      <th>SONO</th>\n",
       "      <th>Partno</th>\n",
       "      <th>descript</th>\n",
       "      <th>prodcl</th>\n",
       "      <th>Product Class</th>\n",
       "      <th>soldby</th>\n",
       "      <th>txnprice</th>\n",
       "      <th>Cur</th>\n",
       "      <th>Rate</th>\n",
       "      <th>totprice</th>\n",
       "    </tr>\n",
       "  </thead>\n",
       "  <tbody>\n",
       "    <tr>\n",
       "      <th>0</th>\n",
       "      <td>294</td>\n",
       "      <td>2016-06-26</td>\n",
       "      <td>2016</td>\n",
       "      <td>2016-06</td>\n",
       "      <td>80956</td>\n",
       "      <td>70993.0</td>\n",
       "      <td>JSE8500</td>\n",
       "      <td>MACHINE GLAZE SPRAYER ECONOMY</td>\n",
       "      <td>72</td>\n",
       "      <td>Jelly Sprayer</td>\n",
       "      <td>HA</td>\n",
       "      <td>0.0000</td>\n",
       "      <td>CAN</td>\n",
       "      <td>1.000000</td>\n",
       "      <td>3890.00</td>\n",
       "    </tr>\n",
       "    <tr>\n",
       "      <th>1</th>\n",
       "      <td>2584</td>\n",
       "      <td>2016-06-27</td>\n",
       "      <td>2016</td>\n",
       "      <td>2016-06</td>\n",
       "      <td>80972</td>\n",
       "      <td>70435.0</td>\n",
       "      <td>COM1000iSV-EU-B</td>\n",
       "      <td>CAKEOMATIC 1000iSV - DEPOSIT EU</td>\n",
       "      <td>17</td>\n",
       "      <td>Cake-o-Matic</td>\n",
       "      <td>RO</td>\n",
       "      <td>0.0000</td>\n",
       "      <td>CAN</td>\n",
       "      <td>1.000000</td>\n",
       "      <td>21628.50</td>\n",
       "    </tr>\n",
       "    <tr>\n",
       "      <th>2</th>\n",
       "      <td>2584</td>\n",
       "      <td>2016-06-27</td>\n",
       "      <td>2016</td>\n",
       "      <td>2016-06</td>\n",
       "      <td>80972</td>\n",
       "      <td>70435.0</td>\n",
       "      <td>UVL1000iSV</td>\n",
       "      <td>UNIVERSAL 1000iSV</td>\n",
       "      <td>10</td>\n",
       "      <td>Universal</td>\n",
       "      <td>RO</td>\n",
       "      <td>0.0000</td>\n",
       "      <td>CAN</td>\n",
       "      <td>1.000000</td>\n",
       "      <td>27338.37</td>\n",
       "    </tr>\n",
       "    <tr>\n",
       "      <th>3</th>\n",
       "      <td>1258</td>\n",
       "      <td>2016-06-28</td>\n",
       "      <td>2016</td>\n",
       "      <td>2016-06</td>\n",
       "      <td>80975</td>\n",
       "      <td>70457.0</td>\n",
       "      <td>CDT3010SV-EU</td>\n",
       "      <td>COMPACT TABLETOP - SV EU NO-TABLE</td>\n",
       "      <td>34</td>\n",
       "      <td>Compact</td>\n",
       "      <td>MH</td>\n",
       "      <td>4486.7846</td>\n",
       "      <td>EUR</td>\n",
       "      <td>0.729927</td>\n",
       "      <td>6146.90</td>\n",
       "    </tr>\n",
       "    <tr>\n",
       "      <th>4</th>\n",
       "      <td>1258</td>\n",
       "      <td>2016-06-28</td>\n",
       "      <td>2016</td>\n",
       "      <td>2016-06</td>\n",
       "      <td>80975</td>\n",
       "      <td>70457.0</td>\n",
       "      <td>CDT3010SV-EU</td>\n",
       "      <td>COMPACT TABLETOP - SV EU NO-TABLE</td>\n",
       "      <td>34</td>\n",
       "      <td>Compact</td>\n",
       "      <td>MH</td>\n",
       "      <td>4486.7846</td>\n",
       "      <td>EUR</td>\n",
       "      <td>0.729927</td>\n",
       "      <td>6146.90</td>\n",
       "    </tr>\n",
       "  </tbody>\n",
       "</table>\n",
       "</div>"
      ],
      "text/plain": [
       "   Custno    Invdate  year yearmonth  Invoice     SONO  \\\n",
       "0     294 2016-06-26  2016   2016-06    80956  70993.0   \n",
       "1    2584 2016-06-27  2016   2016-06    80972  70435.0   \n",
       "2    2584 2016-06-27  2016   2016-06    80972  70435.0   \n",
       "3    1258 2016-06-28  2016   2016-06    80975  70457.0   \n",
       "4    1258 2016-06-28  2016   2016-06    80975  70457.0   \n",
       "\n",
       "                      Partno                           descript prodcl  \\\n",
       "0  JSE8500                        MACHINE GLAZE SPRAYER ECONOMY     72   \n",
       "1  COM1000iSV-EU-B              CAKEOMATIC 1000iSV - DEPOSIT EU     17   \n",
       "2  UVL1000iSV                                 UNIVERSAL 1000iSV     10   \n",
       "3  CDT3010SV-EU               COMPACT TABLETOP - SV EU NO-TABLE     34   \n",
       "4  CDT3010SV-EU               COMPACT TABLETOP - SV EU NO-TABLE     34   \n",
       "\n",
       "   Product Class soldby   txnprice  Cur      Rate  totprice  \n",
       "0  Jelly Sprayer    HA      0.0000  CAN  1.000000   3890.00  \n",
       "1   Cake-o-Matic    RO      0.0000  CAN  1.000000  21628.50  \n",
       "2      Universal    RO      0.0000  CAN  1.000000  27338.37  \n",
       "3        Compact    MH   4486.7846  EUR  0.729927   6146.90  \n",
       "4        Compact    MH   4486.7846  EUR  0.729927   6146.90  "
      ]
     },
     "execution_count": 1,
     "metadata": {},
     "output_type": "execute_result"
    }
   ],
   "source": [
    "import numpy as np\n",
    "#from matplotlib import pylot as plt\n",
    "import pandas as pd\n",
    "\n",
    "from pmdarima import auto_arima                  \n",
    "from statsmodels.tsa.arima.model import ARIMA\n",
    "\n",
    "from xgboost import XGBRegressor\n",
    "\n",
    "\n",
    "\n",
    "# Importar a tabela de dados\n",
    "\n",
    "df = pd.read_excel(r\"MachineOrders03.xlsx\")\n",
    "df.head()\n",
    "#display(df)"
   ]
  },
  {
   "cell_type": "code",
   "execution_count": 2,
   "id": "6c609869",
   "metadata": {},
   "outputs": [
    {
     "data": {
      "text/html": [
       "<div>\n",
       "<style scoped>\n",
       "    .dataframe tbody tr th:only-of-type {\n",
       "        vertical-align: middle;\n",
       "    }\n",
       "\n",
       "    .dataframe tbody tr th {\n",
       "        vertical-align: top;\n",
       "    }\n",
       "\n",
       "    .dataframe thead th {\n",
       "        text-align: right;\n",
       "    }\n",
       "</style>\n",
       "<table border=\"1\" class=\"dataframe\">\n",
       "  <thead>\n",
       "    <tr style=\"text-align: right;\">\n",
       "      <th></th>\n",
       "      <th>Invdate</th>\n",
       "      <th>totprice</th>\n",
       "    </tr>\n",
       "  </thead>\n",
       "  <tbody>\n",
       "    <tr>\n",
       "      <th>0</th>\n",
       "      <td>2016-06-26</td>\n",
       "      <td>3890.00</td>\n",
       "    </tr>\n",
       "    <tr>\n",
       "      <th>1</th>\n",
       "      <td>2016-06-27</td>\n",
       "      <td>21628.50</td>\n",
       "    </tr>\n",
       "    <tr>\n",
       "      <th>2</th>\n",
       "      <td>2016-06-27</td>\n",
       "      <td>27338.37</td>\n",
       "    </tr>\n",
       "    <tr>\n",
       "      <th>3</th>\n",
       "      <td>2016-06-28</td>\n",
       "      <td>6146.90</td>\n",
       "    </tr>\n",
       "    <tr>\n",
       "      <th>4</th>\n",
       "      <td>2016-06-28</td>\n",
       "      <td>6146.90</td>\n",
       "    </tr>\n",
       "    <tr>\n",
       "      <th>...</th>\n",
       "      <td>...</td>\n",
       "      <td>...</td>\n",
       "    </tr>\n",
       "    <tr>\n",
       "      <th>6197</th>\n",
       "      <td>2022-01-20</td>\n",
       "      <td>35206.27</td>\n",
       "    </tr>\n",
       "    <tr>\n",
       "      <th>6198</th>\n",
       "      <td>2022-01-20</td>\n",
       "      <td>69353.79</td>\n",
       "    </tr>\n",
       "    <tr>\n",
       "      <th>6199</th>\n",
       "      <td>2022-01-20</td>\n",
       "      <td>74265.18</td>\n",
       "    </tr>\n",
       "    <tr>\n",
       "      <th>6200</th>\n",
       "      <td>2022-01-20</td>\n",
       "      <td>13780.80</td>\n",
       "    </tr>\n",
       "    <tr>\n",
       "      <th>6201</th>\n",
       "      <td>2022-01-20</td>\n",
       "      <td>115568.65</td>\n",
       "    </tr>\n",
       "  </tbody>\n",
       "</table>\n",
       "<p>6202 rows × 2 columns</p>\n",
       "</div>"
      ],
      "text/plain": [
       "        Invdate   totprice\n",
       "0    2016-06-26    3890.00\n",
       "1    2016-06-27   21628.50\n",
       "2    2016-06-27   27338.37\n",
       "3    2016-06-28    6146.90\n",
       "4    2016-06-28    6146.90\n",
       "...         ...        ...\n",
       "6197 2022-01-20   35206.27\n",
       "6198 2022-01-20   69353.79\n",
       "6199 2022-01-20   74265.18\n",
       "6200 2022-01-20   13780.80\n",
       "6201 2022-01-20  115568.65\n",
       "\n",
       "[6202 rows x 2 columns]"
      ]
     },
     "metadata": {},
     "output_type": "display_data"
    }
   ],
   "source": [
    "# Deletar as colunas q nao necessarias p/ facilitar o trabalho/visualizacao (\"5S dos dados\")\n",
    "\n",
    "new_tab = df.drop([\"Custno\", \"yearmonth\", \"year\", \"Invoice\", \"SONO\", \"Partno\",\"descript\", \"prodcl\", \"Product Class\", \"soldby\",\"txnprice\", \"Cur\", \"Rate\"], axis = 1) \n",
    "display(new_tab)"
   ]
  },
  {
   "cell_type": "code",
   "execution_count": null,
   "id": "5ed31071",
   "metadata": {},
   "outputs": [],
   "source": [
    "#TEREI QUE TRATAR OS DADOS/TABELA JUNTANDO OS DIAS E O TOTAL MEDIO DAS VENDAS E RODAR DAQUI PARA BAIXO."
   ]
  },
  {
   "cell_type": "code",
   "execution_count": 3,
   "id": "3689367f",
   "metadata": {},
   "outputs": [
    {
     "name": "stdout",
     "output_type": "stream",
     "text": [
      "<class 'pandas.core.frame.DataFrame'>\n",
      "RangeIndex: 6202 entries, 0 to 6201\n",
      "Data columns (total 2 columns):\n",
      " #   Column    Non-Null Count  Dtype         \n",
      "---  ------    --------------  -----         \n",
      " 0   Invdate   6202 non-null   datetime64[ns]\n",
      " 1   totprice  6202 non-null   float64       \n",
      "dtypes: datetime64[ns](1), float64(1)\n",
      "memory usage: 97.0 KB\n"
     ]
    }
   ],
   "source": [
    "#Identificando o tipo de variavel pq isso ira influenciar na construcao das proximas analises\n",
    "\n",
    "new_tab.info()\n",
    "\n",
    "#Pode ser perceber que ambas as variaveis: Invdate e totprice (vendas) ja estao classificadas OK (datetime & float).\n",
    "#De qq forma a coluna Invdate tera que ser transformada em indice (eixo x), o que requerera o trabalho a seguir.\n"
   ]
  },
  {
   "cell_type": "code",
   "execution_count": 4,
   "id": "dfe32b3f",
   "metadata": {},
   "outputs": [
    {
     "data": {
      "text/html": [
       "<div>\n",
       "<style scoped>\n",
       "    .dataframe tbody tr th:only-of-type {\n",
       "        vertical-align: middle;\n",
       "    }\n",
       "\n",
       "    .dataframe tbody tr th {\n",
       "        vertical-align: top;\n",
       "    }\n",
       "\n",
       "    .dataframe thead th {\n",
       "        text-align: right;\n",
       "    }\n",
       "</style>\n",
       "<table border=\"1\" class=\"dataframe\">\n",
       "  <thead>\n",
       "    <tr style=\"text-align: right;\">\n",
       "      <th></th>\n",
       "      <th>totprice</th>\n",
       "    </tr>\n",
       "    <tr>\n",
       "      <th>Invdate</th>\n",
       "      <th></th>\n",
       "    </tr>\n",
       "  </thead>\n",
       "  <tbody>\n",
       "    <tr>\n",
       "      <th>2016-06-26</th>\n",
       "      <td>3890.00</td>\n",
       "    </tr>\n",
       "    <tr>\n",
       "      <th>2016-06-27</th>\n",
       "      <td>21628.50</td>\n",
       "    </tr>\n",
       "    <tr>\n",
       "      <th>2016-06-27</th>\n",
       "      <td>27338.37</td>\n",
       "    </tr>\n",
       "    <tr>\n",
       "      <th>2016-06-28</th>\n",
       "      <td>6146.90</td>\n",
       "    </tr>\n",
       "    <tr>\n",
       "      <th>2016-06-28</th>\n",
       "      <td>6146.90</td>\n",
       "    </tr>\n",
       "    <tr>\n",
       "      <th>...</th>\n",
       "      <td>...</td>\n",
       "    </tr>\n",
       "    <tr>\n",
       "      <th>2022-01-20</th>\n",
       "      <td>35206.27</td>\n",
       "    </tr>\n",
       "    <tr>\n",
       "      <th>2022-01-20</th>\n",
       "      <td>69353.79</td>\n",
       "    </tr>\n",
       "    <tr>\n",
       "      <th>2022-01-20</th>\n",
       "      <td>74265.18</td>\n",
       "    </tr>\n",
       "    <tr>\n",
       "      <th>2022-01-20</th>\n",
       "      <td>13780.80</td>\n",
       "    </tr>\n",
       "    <tr>\n",
       "      <th>2022-01-20</th>\n",
       "      <td>115568.65</td>\n",
       "    </tr>\n",
       "  </tbody>\n",
       "</table>\n",
       "<p>6202 rows × 1 columns</p>\n",
       "</div>"
      ],
      "text/plain": [
       "             totprice\n",
       "Invdate              \n",
       "2016-06-26    3890.00\n",
       "2016-06-27   21628.50\n",
       "2016-06-27   27338.37\n",
       "2016-06-28    6146.90\n",
       "2016-06-28    6146.90\n",
       "...               ...\n",
       "2022-01-20   35206.27\n",
       "2022-01-20   69353.79\n",
       "2022-01-20   74265.18\n",
       "2022-01-20   13780.80\n",
       "2022-01-20  115568.65\n",
       "\n",
       "[6202 rows x 1 columns]"
      ]
     },
     "execution_count": 4,
     "metadata": {},
     "output_type": "execute_result"
    }
   ],
   "source": [
    "#Transformar a coluna Invdate para ser o indice (eixo x). \n",
    "\n",
    "new_tab.set_index(\"Invdate\")\n"
   ]
  },
  {
   "cell_type": "code",
   "execution_count": 5,
   "id": "3e9d4494",
   "metadata": {},
   "outputs": [],
   "source": [
    "#Apos rodar o codigo acima, a \"coluna\" Invidate esta em negrito mostrando q foi transformada em indice (n eh coluna +)\n",
    "# inplace=True -> sera utilizado para alterar o objeto original mostrando isso\n",
    "\n",
    "new_tab.set_index(\"Invdate\", inplace=True)   ##executar e rodar o debaixo tb p/ ver a info."
   ]
  },
  {
   "cell_type": "code",
   "execution_count": 7,
   "id": "0368912b",
   "metadata": {},
   "outputs": [
    {
     "name": "stdout",
     "output_type": "stream",
     "text": [
      "<class 'pandas.core.frame.DataFrame'>\n",
      "DatetimeIndex: 6202 entries, 2016-06-26 to 2022-01-20\n",
      "Data columns (total 1 columns):\n",
      " #   Column    Non-Null Count  Dtype  \n",
      "---  ------    --------------  -----  \n",
      " 0   totprice  6202 non-null   float64\n",
      "dtypes: float64(1)\n",
      "memory usage: 96.9 KB\n"
     ]
    }
   ],
   "source": [
    "# inplace mostrara q DatetimeIndex (Periodo:2016-06-26 a 2022-01-20) e q antes era RangeIndex (acima).\n",
    "\n",
    "new_tab.info() \n"
   ]
  },
  {
   "cell_type": "code",
   "execution_count": 8,
   "id": "b524e180",
   "metadata": {},
   "outputs": [
    {
     "data": {
      "text/html": [
       "<div>\n",
       "<style scoped>\n",
       "    .dataframe tbody tr th:only-of-type {\n",
       "        vertical-align: middle;\n",
       "    }\n",
       "\n",
       "    .dataframe tbody tr th {\n",
       "        vertical-align: top;\n",
       "    }\n",
       "\n",
       "    .dataframe thead th {\n",
       "        text-align: right;\n",
       "    }\n",
       "</style>\n",
       "<table border=\"1\" class=\"dataframe\">\n",
       "  <thead>\n",
       "    <tr style=\"text-align: right;\">\n",
       "      <th></th>\n",
       "      <th>totprice</th>\n",
       "    </tr>\n",
       "  </thead>\n",
       "  <tbody>\n",
       "    <tr>\n",
       "      <th>count</th>\n",
       "      <td>6202.0</td>\n",
       "    </tr>\n",
       "    <tr>\n",
       "      <th>mean</th>\n",
       "      <td>22644.0</td>\n",
       "    </tr>\n",
       "    <tr>\n",
       "      <th>std</th>\n",
       "      <td>32288.0</td>\n",
       "    </tr>\n",
       "    <tr>\n",
       "      <th>min</th>\n",
       "      <td>2004.0</td>\n",
       "    </tr>\n",
       "    <tr>\n",
       "      <th>25%</th>\n",
       "      <td>8538.0</td>\n",
       "    </tr>\n",
       "    <tr>\n",
       "      <th>50%</th>\n",
       "      <td>12979.0</td>\n",
       "    </tr>\n",
       "    <tr>\n",
       "      <th>75%</th>\n",
       "      <td>23513.0</td>\n",
       "    </tr>\n",
       "    <tr>\n",
       "      <th>max</th>\n",
       "      <td>730000.0</td>\n",
       "    </tr>\n",
       "  </tbody>\n",
       "</table>\n",
       "</div>"
      ],
      "text/plain": [
       "       totprice\n",
       "count    6202.0\n",
       "mean    22644.0\n",
       "std     32288.0\n",
       "min      2004.0\n",
       "25%      8538.0\n",
       "50%     12979.0\n",
       "75%     23513.0\n",
       "max    730000.0"
      ]
     },
     "execution_count": 8,
     "metadata": {},
     "output_type": "execute_result"
    }
   ],
   "source": [
    "#Calculando a estatistica descritiva\n",
    "#Pode-ser perceber que a media de vendas = $22644 esta bem maior que a mediana (50% => $12979) e isso esta sendo\n",
    "#impactado por valores de vendas de alguns determinados dias como por exemplo em 2018 (max = 730000 -> houve um dia\n",
    "#que as vendas foram muito diferente dos demais). Nesse caso, o ideal eh entendermos o que aconteceu nesse dia.\n",
    "#Percebendo que eh uma causa especial (entender a razao) ai o ideal eh excluir esse dia de vendas e gerarmos uma nova\n",
    "# analise (estatistica descritiva) para se obter numeros mais reais a maioria das vendas desse periodo.\n",
    "\n",
    "round(new_tab.describe())"
   ]
  },
  {
   "cell_type": "code",
   "execution_count": null,
   "id": "f56bc547",
   "metadata": {},
   "outputs": [],
   "source": [
    "#Checar os outliers para ver se eh possivel deleta-los.\n"
   ]
  },
  {
   "cell_type": "code",
   "execution_count": 9,
   "id": "ffc437c9",
   "metadata": {
    "scrolled": true
   },
   "outputs": [
    {
     "data": {
      "text/plain": [
       "<AxesSubplot:xlabel='Invdate'>"
      ]
     },
     "execution_count": 9,
     "metadata": {},
     "output_type": "execute_result"
    },
    {
     "data": {
      "image/png": "[encoded data removed]",
      "text/plain": [
       "<Figure size 720x432 with 1 Axes>"
      ]
     },
     "metadata": {
      "needs_background": "light"
     },
     "output_type": "display_data"
    }
   ],
   "source": [
    "#Analisar o comportamento das vendas ao longo dos anos: 2017-2022\n",
    "#As vendas variam de dia para dia e parecem bem aleatorios, nao parecendo ter um padrao de vendas.\n",
    "#Existiram dias que vendeu bem mais que outros dias, ressaltando uma venda em especial em 2018 foi bem relevante\n",
    "#(max. 730.000). \n",
    "\n",
    "new_tab[\"totprice\"].plot(figsize=(10,6))\n"
   ]
  },
  {
   "cell_type": "code",
   "execution_count": 10,
   "id": "58afb8ab",
   "metadata": {},
   "outputs": [
    {
     "data": {
      "text/plain": [
       "<AxesSubplot:xlabel='Invdate'>"
      ]
     },
     "execution_count": 10,
     "metadata": {},
     "output_type": "execute_result"
    },
    {
     "data": {
      "image/png": "[encoded data removed]",
      "text/plain": [
       "<Figure size 720x432 with 1 Axes>"
      ]
     },
     "metadata": {
      "needs_background": "light"
     },
     "output_type": "display_data"
    }
   ],
   "source": [
    "#Analisar a existencia de tendencia. \"Preciso retirar o outlier\" e rodar again\n",
    "new_tab.totprice.plot(figsize=(10,6))\n"
   ]
  },
  {
   "cell_type": "code",
   "execution_count": 12,
   "id": "538a43d6",
   "metadata": {},
   "outputs": [
    {
     "data": {
      "text/plain": [
       "Rolling [window=12,center=False,axis=0]"
      ]
     },
     "execution_count": 12,
     "metadata": {},
     "output_type": "execute_result"
    }
   ],
   "source": [
    "\n"
   ]
  },
  {
   "cell_type": "code",
   "execution_count": 15,
   "id": "aa912cdb",
   "metadata": {},
   "outputs": [
    {
     "data": {
      "text/plain": [
       "Invdate\n",
       "2016-06-26             NaN\n",
       "2016-06-27             NaN\n",
       "2016-06-27             NaN\n",
       "2016-06-28             NaN\n",
       "2016-06-28             NaN\n",
       "                  ...     \n",
       "2022-01-20    25986.423333\n",
       "2022-01-20    31137.729167\n",
       "2022-01-20    36947.994167\n",
       "2022-01-20    32354.392500\n",
       "2022-01-20    40172.612500\n",
       "Name: totprice, Length: 6202, dtype: float64"
      ]
     },
     "execution_count": 15,
     "metadata": {},
     "output_type": "execute_result"
    }
   ],
   "source": [
    "#Eliminando o ruido das vendas atraves da tecncia de medias moveis baseado em 12 meses. Isso significa que a partir\n",
    "#da 12a posicao  eh que sera possivel calcular a media movel. Aqui sempre preciso do valor atual mais os 11 primeiros\n",
    "\n",
    "new_tab.totprice.rolling(12).mean()\n",
    "#new_tab.totprice.rolling(12).mean().head(12)"
   ]
  },
  {
   "cell_type": "code",
   "execution_count": 16,
   "id": "74b57cc9",
   "metadata": {},
   "outputs": [
    {
     "data": {
      "text/plain": [
       "Invdate\n",
       "2016-06-26             NaN\n",
       "2016-06-27             NaN\n",
       "2016-06-27             NaN\n",
       "2016-06-28             NaN\n",
       "2016-06-28             NaN\n",
       "2016-06-28             NaN\n",
       "2016-06-28             NaN\n",
       "2016-06-29             NaN\n",
       "2016-06-29             NaN\n",
       "2016-06-29             NaN\n",
       "2016-06-30             NaN\n",
       "2016-06-30    15403.084167\n",
       "2016-06-30    16003.405833\n",
       "Name: totprice, dtype: float64"
      ]
     },
     "execution_count": 16,
     "metadata": {},
     "output_type": "execute_result"
    }
   ],
   "source": [
    "#Fins didaticos: para encontrar o valor do primeiro dia 30/06/2016 precisei calcular a media dos anteriores\n",
    "\n",
    "new_tab.totprice.rolling(12).mean().head(13)"
   ]
  },
  {
   "cell_type": "code",
   "execution_count": 17,
   "id": "5838b86f",
   "metadata": {},
   "outputs": [
    {
     "data": {
      "text/plain": [
       "<AxesSubplot:xlabel='Invdate'>"
      ]
     },
     "execution_count": 17,
     "metadata": {},
     "output_type": "execute_result"
    },
    {
     "data": {
      "image/png": "[encoded data removed]",
      "text/plain": [
       "<Figure size 720x432 with 1 Axes>"
      ]
     },
     "metadata": {
      "needs_background": "light"
     },
     "output_type": "display_data"
    }
   ],
   "source": [
    "#Plotar o grafico para verificar o comportamento das vendas sem o ruido\n",
    "\n",
    "new_tab.totprice.rolling(12).mean().plot(figsize=(10,6))"
   ]
  },
  {
   "cell_type": "markdown",
   "id": "e6fe532b",
   "metadata": {},
   "source": [
    "###Fazendo a analise de series temporais para o mesmo dados de vendas, porem usando machine learning. E ai comparando os resultados.\n",
    "\n",
    "##Criando a variavel target (variavel criada manualmente que eh o valor q quero prever - puxei valor da linha 2 para 1, a linha 3 p/ 2 e assim sucessivamente)"
   ]
  },
  {
   "cell_type": "code",
   "execution_count": null,
   "id": "e046e54b",
   "metadata": {},
   "outputs": [],
   "source": [
    "#total price do historico - ontem\n",
    "new_tab[\"totprice\"]"
   ]
  },
  {
   "cell_type": "code",
   "execution_count": null,
   "id": "c0a03237",
   "metadata": {},
   "outputs": [],
   "source": [
    "#total price de amanha (criacao de uma variavel defasando ela em um dia. Isso permitira prever um dia posterior )\n",
    "\n",
    "new_tab[\"totprice\"].shift(-1)"
   ]
  },
  {
   "cell_type": "code",
   "execution_count": null,
   "id": "5231b6e5",
   "metadata": {},
   "outputs": [],
   "source": [
    "#comparar os valores da coluna preco \"deslocado\" (desejado) com o historico (totprice)\n",
    "new_tab[\"desejado\"] = new_tab[\"totprice\"].shift(-1)\n",
    "new_tab.head()"
   ]
  },
  {
   "cell_type": "code",
   "execution_count": null,
   "id": "cf949c6c",
   "metadata": {},
   "outputs": [],
   "source": [
    "#tabela mostrando que por ter puxado os valores da coluna, a ultima celula ficara sem informacao (subiu uma)\n",
    "#o ultimo dia nao havera o \"amanha\" que sera o dia que quero prever\n",
    "new_tab.tail()"
   ]
  },
  {
   "cell_type": "code",
   "execution_count": null,
   "id": "815ea17e",
   "metadata": {},
   "outputs": [],
   "source": [
    "#Por ter puxado os valores (passo acima), a ultima celula \"NaN\" precisa ser deletada\n",
    "\n",
    "new_tab = new_tab.dropna()\n",
    "new_tab.tail()"
   ]
  }
 ],
 "metadata": {
  "kernelspec": {
   "display_name": "Python 3",
   "language": "python",
   "name": "python3"
  },
  "language_info": {
   "codemirror_mode": {
    "name": "ipython",
    "version": 3
   },
   "file_extension": ".py",
   "mimetype": "text/x-python",
   "name": "python",
   "nbconvert_exporter": "python",
   "pygments_lexer": "ipython3",
   "version": "3.8.8"
  }
 },
 "nbformat": 4,
 "nbformat_minor": 5
}
