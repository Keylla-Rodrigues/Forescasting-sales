{
 "cells": [
  {
   "cell_type": "markdown",
   "id": "24481526",
   "metadata": {},
   "source": [
    "### Projeto analise de series temporais utilizando dados de vendas\n",
    "\n",
    "Objetivo: prever vendas utilizando dados de vendas ocorridas no período de 2016-06-01 to 2022-01-01\n",
    "\n",
    "##IMPORTACAO DOS DADOS\n",
    "    Importar a tabela\n",
    "\n",
    "##TRATAMENTO DOS DADOS\n",
    "\n",
    "##ANALISE DOS DADOS\n",
    "    \n",
    "       \n",
    "##CONSTRUCAO DOS GRAFICOS DE SERIES TEMPORAIS: \n",
    "    Tendencia, sazonalidade, etc e modelo.  "
   ]
  },
  {
   "cell_type": "code",
   "execution_count": 1,
   "id": "f8925858",
   "metadata": {},
   "outputs": [
    {
     "data": {
      "text/html": [
       "<div>\n",
       "<style scoped>\n",
       "    .dataframe tbody tr th:only-of-type {\n",
       "        vertical-align: middle;\n",
       "    }\n",
       "\n",
       "    .dataframe tbody tr th {\n",
       "        vertical-align: top;\n",
       "    }\n",
       "\n",
       "    .dataframe thead th {\n",
       "        text-align: right;\n",
       "    }\n",
       "</style>\n",
       "<table border=\"1\" class=\"dataframe\">\n",
       "  <thead>\n",
       "    <tr style=\"text-align: right;\">\n",
       "      <th></th>\n",
       "      <th>Custno</th>\n",
       "      <th>Invdate</th>\n",
       "      <th>year</th>\n",
       "      <th>yearmonth</th>\n",
       "      <th>Invoice</th>\n",
       "      <th>SONO</th>\n",
       "      <th>Partno</th>\n",
       "      <th>descript</th>\n",
       "      <th>prodcl</th>\n",
       "      <th>Product Class</th>\n",
       "      <th>soldby</th>\n",
       "      <th>txnprice</th>\n",
       "      <th>Cur</th>\n",
       "      <th>Rate</th>\n",
       "      <th>totprice</th>\n",
       "    </tr>\n",
       "  </thead>\n",
       "  <tbody>\n",
       "    <tr>\n",
       "      <th>0</th>\n",
       "      <td>294</td>\n",
       "      <td>2016-06-26</td>\n",
       "      <td>2016</td>\n",
       "      <td>2016-06</td>\n",
       "      <td>80956</td>\n",
       "      <td>70993.0</td>\n",
       "      <td>JSE8500</td>\n",
       "      <td>MACHINE GLAZE SPRAYER ECONOMY</td>\n",
       "      <td>72</td>\n",
       "      <td>Jelly Sprayer</td>\n",
       "      <td>HA</td>\n",
       "      <td>0.0000</td>\n",
       "      <td>CAN</td>\n",
       "      <td>1.000000</td>\n",
       "      <td>3890.00</td>\n",
       "    </tr>\n",
       "    <tr>\n",
       "      <th>1</th>\n",
       "      <td>2584</td>\n",
       "      <td>2016-06-27</td>\n",
       "      <td>2016</td>\n",
       "      <td>2016-06</td>\n",
       "      <td>80972</td>\n",
       "      <td>70435.0</td>\n",
       "      <td>COM1000iSV-EU-B</td>\n",
       "      <td>CAKEOMATIC 1000iSV - DEPOSIT EU</td>\n",
       "      <td>17</td>\n",
       "      <td>Cake-o-Matic</td>\n",
       "      <td>RO</td>\n",
       "      <td>0.0000</td>\n",
       "      <td>CAN</td>\n",
       "      <td>1.000000</td>\n",
       "      <td>21628.50</td>\n",
       "    </tr>\n",
       "    <tr>\n",
       "      <th>2</th>\n",
       "      <td>2584</td>\n",
       "      <td>2016-06-27</td>\n",
       "      <td>2016</td>\n",
       "      <td>2016-06</td>\n",
       "      <td>80972</td>\n",
       "      <td>70435.0</td>\n",
       "      <td>UVL1000iSV</td>\n",
       "      <td>UNIVERSAL 1000iSV</td>\n",
       "      <td>10</td>\n",
       "      <td>Universal</td>\n",
       "      <td>RO</td>\n",
       "      <td>0.0000</td>\n",
       "      <td>CAN</td>\n",
       "      <td>1.000000</td>\n",
       "      <td>27338.37</td>\n",
       "    </tr>\n",
       "    <tr>\n",
       "      <th>3</th>\n",
       "      <td>1258</td>\n",
       "      <td>2016-06-28</td>\n",
       "      <td>2016</td>\n",
       "      <td>2016-06</td>\n",
       "      <td>80975</td>\n",
       "      <td>70457.0</td>\n",
       "      <td>CDT3010SV-EU</td>\n",
       "      <td>COMPACT TABLETOP - SV EU NO-TABLE</td>\n",
       "      <td>34</td>\n",
       "      <td>Compact</td>\n",
       "      <td>MH</td>\n",
       "      <td>4486.7846</td>\n",
       "      <td>EUR</td>\n",
       "      <td>0.729927</td>\n",
       "      <td>6146.90</td>\n",
       "    </tr>\n",
       "    <tr>\n",
       "      <th>4</th>\n",
       "      <td>1258</td>\n",
       "      <td>2016-06-28</td>\n",
       "      <td>2016</td>\n",
       "      <td>2016-06</td>\n",
       "      <td>80975</td>\n",
       "      <td>70457.0</td>\n",
       "      <td>CDT3010SV-EU</td>\n",
       "      <td>COMPACT TABLETOP - SV EU NO-TABLE</td>\n",
       "      <td>34</td>\n",
       "      <td>Compact</td>\n",
       "      <td>MH</td>\n",
       "      <td>4486.7846</td>\n",
       "      <td>EUR</td>\n",
       "      <td>0.729927</td>\n",
       "      <td>6146.90</td>\n",
       "    </tr>\n",
       "  </tbody>\n",
       "</table>\n",
       "</div>"
      ],
      "text/plain": [
       "   Custno    Invdate  year yearmonth  Invoice     SONO  \\\n",
       "0     294 2016-06-26  2016   2016-06    80956  70993.0   \n",
       "1    2584 2016-06-27  2016   2016-06    80972  70435.0   \n",
       "2    2584 2016-06-27  2016   2016-06    80972  70435.0   \n",
       "3    1258 2016-06-28  2016   2016-06    80975  70457.0   \n",
       "4    1258 2016-06-28  2016   2016-06    80975  70457.0   \n",
       "\n",
       "                      Partno                           descript prodcl  \\\n",
       "0  JSE8500                        MACHINE GLAZE SPRAYER ECONOMY     72   \n",
       "1  COM1000iSV-EU-B              CAKEOMATIC 1000iSV - DEPOSIT EU     17   \n",
       "2  UVL1000iSV                                 UNIVERSAL 1000iSV     10   \n",
       "3  CDT3010SV-EU               COMPACT TABLETOP - SV EU NO-TABLE     34   \n",
       "4  CDT3010SV-EU               COMPACT TABLETOP - SV EU NO-TABLE     34   \n",
       "\n",
       "   Product Class soldby   txnprice  Cur      Rate  totprice  \n",
       "0  Jelly Sprayer    HA      0.0000  CAN  1.000000   3890.00  \n",
       "1   Cake-o-Matic    RO      0.0000  CAN  1.000000  21628.50  \n",
       "2      Universal    RO      0.0000  CAN  1.000000  27338.37  \n",
       "3        Compact    MH   4486.7846  EUR  0.729927   6146.90  \n",
       "4        Compact    MH   4486.7846  EUR  0.729927   6146.90  "
      ]
     },
     "execution_count": 1,
     "metadata": {},
     "output_type": "execute_result"
    }
   ],
   "source": [
    "import numpy as np\n",
    "#from matplotlib import pylot as plt\n",
    "import pandas as pd\n",
    "\n",
    "from pmdarima import auto_arima                  \n",
    "from statsmodels.tsa.arima.model import ARIMA\n",
    "\n",
    "from xgboost import XGBRegressor\n",
    "\n",
    "# Importar a tabela de dados\n",
    "\n",
    "\n",
    "df = pd.read_excel(r\"MachineOrders03.xlsx\")\n",
    "df.head(5)\n",
    "#display(df)"
   ]
  },
  {
   "cell_type": "code",
   "execution_count": 2,
   "id": "6c609869",
   "metadata": {},
   "outputs": [
    {
     "data": {
      "text/html": [
       "<div>\n",
       "<style scoped>\n",
       "    .dataframe tbody tr th:only-of-type {\n",
       "        vertical-align: middle;\n",
       "    }\n",
       "\n",
       "    .dataframe tbody tr th {\n",
       "        vertical-align: top;\n",
       "    }\n",
       "\n",
       "    .dataframe thead th {\n",
       "        text-align: right;\n",
       "    }\n",
       "</style>\n",
       "<table border=\"1\" class=\"dataframe\">\n",
       "  <thead>\n",
       "    <tr style=\"text-align: right;\">\n",
       "      <th></th>\n",
       "      <th>Invdate</th>\n",
       "      <th>totprice</th>\n",
       "    </tr>\n",
       "  </thead>\n",
       "  <tbody>\n",
       "    <tr>\n",
       "      <th>0</th>\n",
       "      <td>2016-06-26</td>\n",
       "      <td>3890.00</td>\n",
       "    </tr>\n",
       "    <tr>\n",
       "      <th>1</th>\n",
       "      <td>2016-06-27</td>\n",
       "      <td>21628.50</td>\n",
       "    </tr>\n",
       "    <tr>\n",
       "      <th>2</th>\n",
       "      <td>2016-06-27</td>\n",
       "      <td>27338.37</td>\n",
       "    </tr>\n",
       "    <tr>\n",
       "      <th>3</th>\n",
       "      <td>2016-06-28</td>\n",
       "      <td>6146.90</td>\n",
       "    </tr>\n",
       "    <tr>\n",
       "      <th>4</th>\n",
       "      <td>2016-06-28</td>\n",
       "      <td>6146.90</td>\n",
       "    </tr>\n",
       "    <tr>\n",
       "      <th>...</th>\n",
       "      <td>...</td>\n",
       "      <td>...</td>\n",
       "    </tr>\n",
       "    <tr>\n",
       "      <th>6197</th>\n",
       "      <td>2022-01-20</td>\n",
       "      <td>35206.27</td>\n",
       "    </tr>\n",
       "    <tr>\n",
       "      <th>6198</th>\n",
       "      <td>2022-01-20</td>\n",
       "      <td>69353.79</td>\n",
       "    </tr>\n",
       "    <tr>\n",
       "      <th>6199</th>\n",
       "      <td>2022-01-20</td>\n",
       "      <td>74265.18</td>\n",
       "    </tr>\n",
       "    <tr>\n",
       "      <th>6200</th>\n",
       "      <td>2022-01-20</td>\n",
       "      <td>13780.80</td>\n",
       "    </tr>\n",
       "    <tr>\n",
       "      <th>6201</th>\n",
       "      <td>2022-01-20</td>\n",
       "      <td>115568.65</td>\n",
       "    </tr>\n",
       "  </tbody>\n",
       "</table>\n",
       "<p>6202 rows × 2 columns</p>\n",
       "</div>"
      ],
      "text/plain": [
       "        Invdate   totprice\n",
       "0    2016-06-26    3890.00\n",
       "1    2016-06-27   21628.50\n",
       "2    2016-06-27   27338.37\n",
       "3    2016-06-28    6146.90\n",
       "4    2016-06-28    6146.90\n",
       "...         ...        ...\n",
       "6197 2022-01-20   35206.27\n",
       "6198 2022-01-20   69353.79\n",
       "6199 2022-01-20   74265.18\n",
       "6200 2022-01-20   13780.80\n",
       "6201 2022-01-20  115568.65\n",
       "\n",
       "[6202 rows x 2 columns]"
      ]
     },
     "metadata": {},
     "output_type": "display_data"
    }
   ],
   "source": [
    "# Deletar as colunas q nao necessarias\n",
    "\n",
    "new_tab = df.drop([\"Custno\", \"yearmonth\", \"year\", \"Invoice\", \"SONO\", \"Partno\",\"descript\", \"prodcl\", \"Product Class\", \"soldby\",\"txnprice\", \"Cur\", \"Rate\"], axis = 1) \n",
    "display(new_tab)"
   ]
  },
  {
   "cell_type": "code",
   "execution_count": 3,
   "id": "73e97ae8",
   "metadata": {},
   "outputs": [
    {
     "data": {
      "text/plain": [
       "(0, 6201)"
      ]
     },
     "execution_count": 3,
     "metadata": {},
     "output_type": "execute_result"
    }
   ],
   "source": [
    "new_tab.index.min(), new_tab.index.max()"
   ]
  },
  {
   "cell_type": "code",
   "execution_count": 4,
   "id": "3689367f",
   "metadata": {},
   "outputs": [
    {
     "name": "stdout",
     "output_type": "stream",
     "text": [
      "<class 'pandas.core.frame.DataFrame'>\n",
      "RangeIndex: 6202 entries, 0 to 6201\n",
      "Data columns (total 2 columns):\n",
      " #   Column    Non-Null Count  Dtype         \n",
      "---  ------    --------------  -----         \n",
      " 0   Invdate   6202 non-null   datetime64[ns]\n",
      " 1   totprice  6202 non-null   float64       \n",
      "dtypes: datetime64[ns](1), float64(1)\n",
      "memory usage: 97.0 KB\n"
     ]
    }
   ],
   "source": [
    "new_tab.info()\n",
    "\n",
    "#df.dtypes\n",
    "#df.columns  \n",
    "#list(df.columns) #print(df.isna().sum()) -> mostra qtde celulas vazias"
   ]
  },
  {
   "cell_type": "code",
   "execution_count": 7,
   "id": "55ab85a9",
   "metadata": {},
   "outputs": [
    {
     "data": {
      "text/plain": [
       "0      2016-06-26\n",
       "1      2016-06-27\n",
       "2      2016-06-27\n",
       "3      2016-06-28\n",
       "4      2016-06-28\n",
       "          ...    \n",
       "6197   2022-01-20\n",
       "6198   2022-01-20\n",
       "6199   2022-01-20\n",
       "6200   2022-01-20\n",
       "6201   2022-01-20\n",
       "Name: Invdate, Length: 6202, dtype: datetime64[ns]"
      ]
     },
     "execution_count": 7,
     "metadata": {},
     "output_type": "execute_result"
    }
   ],
   "source": [
    "pd.to_datetime(new_tab.Invdate)"
   ]
  },
  {
   "cell_type": "code",
   "execution_count": null,
   "id": "791030d3",
   "metadata": {},
   "outputs": [],
   "source": [
    "#pd.to_datetime(df.yearmonth) # = object -> transf. eh a conversao da coluna yearmonth p/datetime usando df.set\n",
    "#nessa transf. ele definiu tdo como dia 1 ja q nao tem dia\n",
    "#nesse codigo acima, o dataframe n foi alterado. Entao o codigo abaxio jogara essa alteracao na mesma coluna\n",
    "\n",
    "#df.yearmonth = pd.to_datetime(df.yearmonth) \n",
    "#df.info()"
   ]
  },
  {
   "cell_type": "code",
   "execution_count": null,
   "id": "dfe32b3f",
   "metadata": {},
   "outputs": [],
   "source": [
    "#agora transf essa nova coluna yearmonth para ser o indice \n",
    "#df.set_index(\"yearmonth\", inplace=True)\n"
   ]
  },
  {
   "cell_type": "code",
   "execution_count": null,
   "id": "0368912b",
   "metadata": {},
   "outputs": [],
   "source": [
    "#df.info() # com essa transf. q antes era RangeIndex agora se tornou DatetimeIndex. Periodo:2016-06-01 a 2022-01-01\n"
   ]
  },
  {
   "cell_type": "code",
   "execution_count": 8,
   "id": "b524e180",
   "metadata": {},
   "outputs": [
    {
     "data": {
      "text/html": [
       "<div>\n",
       "<style scoped>\n",
       "    .dataframe tbody tr th:only-of-type {\n",
       "        vertical-align: middle;\n",
       "    }\n",
       "\n",
       "    .dataframe tbody tr th {\n",
       "        vertical-align: top;\n",
       "    }\n",
       "\n",
       "    .dataframe thead th {\n",
       "        text-align: right;\n",
       "    }\n",
       "</style>\n",
       "<table border=\"1\" class=\"dataframe\">\n",
       "  <thead>\n",
       "    <tr style=\"text-align: right;\">\n",
       "      <th></th>\n",
       "      <th>totprice</th>\n",
       "    </tr>\n",
       "  </thead>\n",
       "  <tbody>\n",
       "    <tr>\n",
       "      <th>count</th>\n",
       "      <td>6202.0</td>\n",
       "    </tr>\n",
       "    <tr>\n",
       "      <th>mean</th>\n",
       "      <td>22644.0</td>\n",
       "    </tr>\n",
       "    <tr>\n",
       "      <th>std</th>\n",
       "      <td>32288.0</td>\n",
       "    </tr>\n",
       "    <tr>\n",
       "      <th>min</th>\n",
       "      <td>2004.0</td>\n",
       "    </tr>\n",
       "    <tr>\n",
       "      <th>25%</th>\n",
       "      <td>8538.0</td>\n",
       "    </tr>\n",
       "    <tr>\n",
       "      <th>50%</th>\n",
       "      <td>12979.0</td>\n",
       "    </tr>\n",
       "    <tr>\n",
       "      <th>75%</th>\n",
       "      <td>23513.0</td>\n",
       "    </tr>\n",
       "    <tr>\n",
       "      <th>max</th>\n",
       "      <td>730000.0</td>\n",
       "    </tr>\n",
       "  </tbody>\n",
       "</table>\n",
       "</div>"
      ],
      "text/plain": [
       "       totprice\n",
       "count    6202.0\n",
       "mean    22644.0\n",
       "std     32288.0\n",
       "min      2004.0\n",
       "25%      8538.0\n",
       "50%     12979.0\n",
       "75%     23513.0\n",
       "max    730000.0"
      ]
     },
     "execution_count": 8,
     "metadata": {},
     "output_type": "execute_result"
    }
   ],
   "source": [
    "round(new_tab.describe())"
   ]
  },
  {
   "cell_type": "code",
   "execution_count": null,
   "id": "149f4d2d",
   "metadata": {},
   "outputs": [],
   "source": [
    "#excluir outlier"
   ]
  },
  {
   "cell_type": "code",
   "execution_count": 16,
   "id": "ffc437c9",
   "metadata": {
    "scrolled": true
   },
   "outputs": [],
   "source": [
    "#new_tab[\"totprice\"].plot(figsize=(10,6))\n",
    "\n"
   ]
  },
  {
   "cell_type": "markdown",
   "id": "e6fe532b",
   "metadata": {},
   "source": [
    "###Criando a variavel target (variavel criada manualmente que eh o valor q quero prever - puxei valor da linha 2 para 1, a linha 3 p/ 2 e assim sucessivamente)"
   ]
  },
  {
   "cell_type": "code",
   "execution_count": 10,
   "id": "e046e54b",
   "metadata": {},
   "outputs": [
    {
     "data": {
      "text/plain": [
       "0         3890.00\n",
       "1        21628.50\n",
       "2        27338.37\n",
       "3         6146.90\n",
       "4         6146.90\n",
       "          ...    \n",
       "6197     35206.27\n",
       "6198     69353.79\n",
       "6199     74265.18\n",
       "6200     13780.80\n",
       "6201    115568.65\n",
       "Name: totprice, Length: 6202, dtype: float64"
      ]
     },
     "execution_count": 10,
     "metadata": {},
     "output_type": "execute_result"
    }
   ],
   "source": [
    "#total price do historico - ontem\n",
    "new_tab[\"totprice\"]"
   ]
  },
  {
   "cell_type": "code",
   "execution_count": 11,
   "id": "c0a03237",
   "metadata": {},
   "outputs": [
    {
     "data": {
      "text/plain": [
       "0        21628.50\n",
       "1        27338.37\n",
       "2         6146.90\n",
       "3         6146.90\n",
       "4        23588.34\n",
       "          ...    \n",
       "6197     69353.79\n",
       "6198     74265.18\n",
       "6199     13780.80\n",
       "6200    115568.65\n",
       "6201          NaN\n",
       "Name: totprice, Length: 6202, dtype: float64"
      ]
     },
     "execution_count": 11,
     "metadata": {},
     "output_type": "execute_result"
    }
   ],
   "source": [
    "#total price de amanha (criacao de uma variavel defasando ela em um dia. Isso permitira prever um dia posterior )\n",
    "\n",
    "new_tab[\"totprice\"].shift(-1)"
   ]
  },
  {
   "cell_type": "code",
   "execution_count": 12,
   "id": "5231b6e5",
   "metadata": {},
   "outputs": [
    {
     "data": {
      "text/html": [
       "<div>\n",
       "<style scoped>\n",
       "    .dataframe tbody tr th:only-of-type {\n",
       "        vertical-align: middle;\n",
       "    }\n",
       "\n",
       "    .dataframe tbody tr th {\n",
       "        vertical-align: top;\n",
       "    }\n",
       "\n",
       "    .dataframe thead th {\n",
       "        text-align: right;\n",
       "    }\n",
       "</style>\n",
       "<table border=\"1\" class=\"dataframe\">\n",
       "  <thead>\n",
       "    <tr style=\"text-align: right;\">\n",
       "      <th></th>\n",
       "      <th>Invdate</th>\n",
       "      <th>totprice</th>\n",
       "      <th>desejado</th>\n",
       "    </tr>\n",
       "  </thead>\n",
       "  <tbody>\n",
       "    <tr>\n",
       "      <th>0</th>\n",
       "      <td>2016-06-26</td>\n",
       "      <td>3890.00</td>\n",
       "      <td>21628.50</td>\n",
       "    </tr>\n",
       "    <tr>\n",
       "      <th>1</th>\n",
       "      <td>2016-06-27</td>\n",
       "      <td>21628.50</td>\n",
       "      <td>27338.37</td>\n",
       "    </tr>\n",
       "    <tr>\n",
       "      <th>2</th>\n",
       "      <td>2016-06-27</td>\n",
       "      <td>27338.37</td>\n",
       "      <td>6146.90</td>\n",
       "    </tr>\n",
       "    <tr>\n",
       "      <th>3</th>\n",
       "      <td>2016-06-28</td>\n",
       "      <td>6146.90</td>\n",
       "      <td>6146.90</td>\n",
       "    </tr>\n",
       "    <tr>\n",
       "      <th>4</th>\n",
       "      <td>2016-06-28</td>\n",
       "      <td>6146.90</td>\n",
       "      <td>23588.34</td>\n",
       "    </tr>\n",
       "  </tbody>\n",
       "</table>\n",
       "</div>"
      ],
      "text/plain": [
       "     Invdate  totprice  desejado\n",
       "0 2016-06-26   3890.00  21628.50\n",
       "1 2016-06-27  21628.50  27338.37\n",
       "2 2016-06-27  27338.37   6146.90\n",
       "3 2016-06-28   6146.90   6146.90\n",
       "4 2016-06-28   6146.90  23588.34"
      ]
     },
     "execution_count": 12,
     "metadata": {},
     "output_type": "execute_result"
    }
   ],
   "source": [
    "#comparar os valores da coluna preco \"deslocado\" (desejado) com o historico (totprice)\n",
    "new_tab[\"desejado\"] = new_tab[\"totprice\"].shift(-1)\n",
    "new_tab.head()"
   ]
  },
  {
   "cell_type": "code",
   "execution_count": 13,
   "id": "cf949c6c",
   "metadata": {},
   "outputs": [
    {
     "data": {
      "text/html": [
       "<div>\n",
       "<style scoped>\n",
       "    .dataframe tbody tr th:only-of-type {\n",
       "        vertical-align: middle;\n",
       "    }\n",
       "\n",
       "    .dataframe tbody tr th {\n",
       "        vertical-align: top;\n",
       "    }\n",
       "\n",
       "    .dataframe thead th {\n",
       "        text-align: right;\n",
       "    }\n",
       "</style>\n",
       "<table border=\"1\" class=\"dataframe\">\n",
       "  <thead>\n",
       "    <tr style=\"text-align: right;\">\n",
       "      <th></th>\n",
       "      <th>Invdate</th>\n",
       "      <th>totprice</th>\n",
       "      <th>desejado</th>\n",
       "    </tr>\n",
       "  </thead>\n",
       "  <tbody>\n",
       "    <tr>\n",
       "      <th>6197</th>\n",
       "      <td>2022-01-20</td>\n",
       "      <td>35206.27</td>\n",
       "      <td>69353.79</td>\n",
       "    </tr>\n",
       "    <tr>\n",
       "      <th>6198</th>\n",
       "      <td>2022-01-20</td>\n",
       "      <td>69353.79</td>\n",
       "      <td>74265.18</td>\n",
       "    </tr>\n",
       "    <tr>\n",
       "      <th>6199</th>\n",
       "      <td>2022-01-20</td>\n",
       "      <td>74265.18</td>\n",
       "      <td>13780.80</td>\n",
       "    </tr>\n",
       "    <tr>\n",
       "      <th>6200</th>\n",
       "      <td>2022-01-20</td>\n",
       "      <td>13780.80</td>\n",
       "      <td>115568.65</td>\n",
       "    </tr>\n",
       "    <tr>\n",
       "      <th>6201</th>\n",
       "      <td>2022-01-20</td>\n",
       "      <td>115568.65</td>\n",
       "      <td>NaN</td>\n",
       "    </tr>\n",
       "  </tbody>\n",
       "</table>\n",
       "</div>"
      ],
      "text/plain": [
       "        Invdate   totprice   desejado\n",
       "6197 2022-01-20   35206.27   69353.79\n",
       "6198 2022-01-20   69353.79   74265.18\n",
       "6199 2022-01-20   74265.18   13780.80\n",
       "6200 2022-01-20   13780.80  115568.65\n",
       "6201 2022-01-20  115568.65        NaN"
      ]
     },
     "execution_count": 13,
     "metadata": {},
     "output_type": "execute_result"
    }
   ],
   "source": [
    "#tabela mostrando que por ter puxado os valores da coluna, a ultima celula ficara sem informacao (subiu uma)\n",
    "#o ultimo dia nao havera o \"amanha\" que sera o dia que quero prever\n",
    "new_tab.tail()"
   ]
  },
  {
   "cell_type": "code",
   "execution_count": 14,
   "id": "815ea17e",
   "metadata": {},
   "outputs": [
    {
     "data": {
      "text/html": [
       "<div>\n",
       "<style scoped>\n",
       "    .dataframe tbody tr th:only-of-type {\n",
       "        vertical-align: middle;\n",
       "    }\n",
       "\n",
       "    .dataframe tbody tr th {\n",
       "        vertical-align: top;\n",
       "    }\n",
       "\n",
       "    .dataframe thead th {\n",
       "        text-align: right;\n",
       "    }\n",
       "</style>\n",
       "<table border=\"1\" class=\"dataframe\">\n",
       "  <thead>\n",
       "    <tr style=\"text-align: right;\">\n",
       "      <th></th>\n",
       "      <th>Invdate</th>\n",
       "      <th>totprice</th>\n",
       "      <th>desejado</th>\n",
       "    </tr>\n",
       "  </thead>\n",
       "  <tbody>\n",
       "    <tr>\n",
       "      <th>6196</th>\n",
       "      <td>2022-01-20</td>\n",
       "      <td>21083.65</td>\n",
       "      <td>35206.27</td>\n",
       "    </tr>\n",
       "    <tr>\n",
       "      <th>6197</th>\n",
       "      <td>2022-01-20</td>\n",
       "      <td>35206.27</td>\n",
       "      <td>69353.79</td>\n",
       "    </tr>\n",
       "    <tr>\n",
       "      <th>6198</th>\n",
       "      <td>2022-01-20</td>\n",
       "      <td>69353.79</td>\n",
       "      <td>74265.18</td>\n",
       "    </tr>\n",
       "    <tr>\n",
       "      <th>6199</th>\n",
       "      <td>2022-01-20</td>\n",
       "      <td>74265.18</td>\n",
       "      <td>13780.80</td>\n",
       "    </tr>\n",
       "    <tr>\n",
       "      <th>6200</th>\n",
       "      <td>2022-01-20</td>\n",
       "      <td>13780.80</td>\n",
       "      <td>115568.65</td>\n",
       "    </tr>\n",
       "  </tbody>\n",
       "</table>\n",
       "</div>"
      ],
      "text/plain": [
       "        Invdate  totprice   desejado\n",
       "6196 2022-01-20  21083.65   35206.27\n",
       "6197 2022-01-20  35206.27   69353.79\n",
       "6198 2022-01-20  69353.79   74265.18\n",
       "6199 2022-01-20  74265.18   13780.80\n",
       "6200 2022-01-20  13780.80  115568.65"
      ]
     },
     "execution_count": 14,
     "metadata": {},
     "output_type": "execute_result"
    }
   ],
   "source": [
    "#Por ter puxado os valores (passo acima), a ultima celula \"NaN\" precisa ser deletada\n",
    "\n",
    "new_tab = new_tab.dropna()\n",
    "new_tab.tail()"
   ]
  },
  {
   "cell_type": "code",
   "execution_count": null,
   "id": "b323f3db",
   "metadata": {},
   "outputs": [],
   "source": []
  }
 ],
 "metadata": {
  "kernelspec": {
   "display_name": "Python 3",
   "language": "python",
   "name": "python3"
  },
  "language_info": {
   "codemirror_mode": {
    "name": "ipython",
    "version": 3
   },
   "file_extension": ".py",
   "mimetype": "text/x-python",
   "name": "python",
   "nbconvert_exporter": "python",
   "pygments_lexer": "ipython3",
   "version": "3.8.8"
  }
 },
 "nbformat": 4,
 "nbformat_minor": 5
}
