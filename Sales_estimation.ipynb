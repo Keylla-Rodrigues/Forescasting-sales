{
 "cells": [
  {
   "cell_type": "code",
   "execution_count": 4,
   "id": "067a1976",
   "metadata": {},
   "outputs": [
    {
     "data": {
      "text/html": [
       "<div>\n",
       "<style scoped>\n",
       "    .dataframe tbody tr th:only-of-type {\n",
       "        vertical-align: middle;\n",
       "    }\n",
       "\n",
       "    .dataframe tbody tr th {\n",
       "        vertical-align: top;\n",
       "    }\n",
       "\n",
       "    .dataframe thead th {\n",
       "        text-align: right;\n",
       "    }\n",
       "</style>\n",
       "<table border=\"1\" class=\"dataframe\">\n",
       "  <thead>\n",
       "    <tr style=\"text-align: right;\">\n",
       "      <th></th>\n",
       "      <th>Invdate</th>\n",
       "      <th>Qty</th>\n",
       "      <th>total_sales</th>\n",
       "      <th>mean_date</th>\n",
       "    </tr>\n",
       "  </thead>\n",
       "  <tbody>\n",
       "    <tr>\n",
       "      <th>0</th>\n",
       "      <td>2016-05-02</td>\n",
       "      <td>3</td>\n",
       "      <td>68206.80</td>\n",
       "      <td>22735.600000</td>\n",
       "    </tr>\n",
       "    <tr>\n",
       "      <th>1</th>\n",
       "      <td>2016-05-03</td>\n",
       "      <td>1</td>\n",
       "      <td>15961.90</td>\n",
       "      <td>15961.900000</td>\n",
       "    </tr>\n",
       "    <tr>\n",
       "      <th>2</th>\n",
       "      <td>2016-05-07</td>\n",
       "      <td>2</td>\n",
       "      <td>60523.40</td>\n",
       "      <td>30261.700000</td>\n",
       "    </tr>\n",
       "    <tr>\n",
       "      <th>3</th>\n",
       "      <td>2016-05-10</td>\n",
       "      <td>4</td>\n",
       "      <td>140950.95</td>\n",
       "      <td>35237.737500</td>\n",
       "    </tr>\n",
       "    <tr>\n",
       "      <th>4</th>\n",
       "      <td>2016-05-11</td>\n",
       "      <td>3</td>\n",
       "      <td>39251.12</td>\n",
       "      <td>13083.706667</td>\n",
       "    </tr>\n",
       "    <tr>\n",
       "      <th>...</th>\n",
       "      <td>...</td>\n",
       "      <td>...</td>\n",
       "      <td>...</td>\n",
       "      <td>...</td>\n",
       "    </tr>\n",
       "    <tr>\n",
       "      <th>1292</th>\n",
       "      <td>2022-03-22</td>\n",
       "      <td>6</td>\n",
       "      <td>217071.23</td>\n",
       "      <td>36178.538333</td>\n",
       "    </tr>\n",
       "    <tr>\n",
       "      <th>1293</th>\n",
       "      <td>2022-03-23</td>\n",
       "      <td>4</td>\n",
       "      <td>91889.25</td>\n",
       "      <td>22972.312500</td>\n",
       "    </tr>\n",
       "    <tr>\n",
       "      <th>1294</th>\n",
       "      <td>2022-03-25</td>\n",
       "      <td>4</td>\n",
       "      <td>78806.76</td>\n",
       "      <td>19701.690000</td>\n",
       "    </tr>\n",
       "    <tr>\n",
       "      <th>1295</th>\n",
       "      <td>2022-03-28</td>\n",
       "      <td>4</td>\n",
       "      <td>71239.56</td>\n",
       "      <td>17809.890000</td>\n",
       "    </tr>\n",
       "    <tr>\n",
       "      <th>1296</th>\n",
       "      <td>2022-03-29</td>\n",
       "      <td>6</td>\n",
       "      <td>59578.91</td>\n",
       "      <td>9929.818333</td>\n",
       "    </tr>\n",
       "  </tbody>\n",
       "</table>\n",
       "<p>1297 rows × 4 columns</p>\n",
       "</div>"
      ],
      "text/plain": [
       "        Invdate  Qty  total_sales     mean_date\n",
       "0    2016-05-02    3     68206.80  22735.600000\n",
       "1    2016-05-03    1     15961.90  15961.900000\n",
       "2    2016-05-07    2     60523.40  30261.700000\n",
       "3    2016-05-10    4    140950.95  35237.737500\n",
       "4    2016-05-11    3     39251.12  13083.706667\n",
       "...         ...  ...          ...           ...\n",
       "1292 2022-03-22    6    217071.23  36178.538333\n",
       "1293 2022-03-23    4     91889.25  22972.312500\n",
       "1294 2022-03-25    4     78806.76  19701.690000\n",
       "1295 2022-03-28    4     71239.56  17809.890000\n",
       "1296 2022-03-29    6     59578.91   9929.818333\n",
       "\n",
       "[1297 rows x 4 columns]"
      ]
     },
     "metadata": {},
     "output_type": "display_data"
    }
   ],
   "source": [
    "import pandas as pd\n",
    "from datetime import datetime\n",
    "import numpy as np\n",
    "\n",
    "import matplotlib\n",
    "import matplotlib.pyplot as plt\n",
    "\n",
    "import statsmodels.api as sm\n",
    "import statsmodels.formula.api as smf\n",
    "\n",
    "from pylab import rcParams\n",
    "\n",
    "\n",
    "# Importar a tabela de dados\n",
    "\n",
    "df = pd.read_excel(r\"Forecasting_FInal_Sales.xlsx\")\n",
    "display(df)"
   ]
  },
  {
   "cell_type": "code",
   "execution_count": 6,
   "id": "d3697ef0",
   "metadata": {},
   "outputs": [
    {
     "data": {
      "text/plain": [
       "Invdate     Qty  total_sales  mean_date   \n",
       "2016-05-02  3    68206.80     22735.600000    1\n",
       "2020-03-07  1    11610.06     11610.060000    1\n",
       "2020-04-10  1    6388.80      6388.800000     1\n",
       "2020-04-09  1    7463.61      7463.610000     1\n",
       "2020-04-08  8    80172.64     10021.580000    1\n",
       "                                             ..\n",
       "2018-05-10  1    13998.40     13998.400000    1\n",
       "2018-05-09  2    13996.12     6998.060000     1\n",
       "2018-05-08  9    88236.57     9804.063333     1\n",
       "2018-05-07  6    159045.69    26507.615000    1\n",
       "2022-03-29  6    59578.91     9929.818333     1\n",
       "Length: 1297, dtype: int64"
      ]
     },
     "execution_count": 6,
     "metadata": {},
     "output_type": "execute_result"
    }
   ],
   "source": [
    "df.value_counts() #contabiliza cada coluna"
   ]
  },
  {
   "cell_type": "code",
   "execution_count": 7,
   "id": "a3a5efa5",
   "metadata": {},
   "outputs": [
    {
     "data": {
      "text/plain": [
       "0       False\n",
       "1       False\n",
       "2       False\n",
       "3       False\n",
       "4       False\n",
       "        ...  \n",
       "1292    False\n",
       "1293    False\n",
       "1294    False\n",
       "1295    False\n",
       "1296    False\n",
       "Length: 1297, dtype: bool"
      ]
     },
     "execution_count": 7,
     "metadata": {},
     "output_type": "execute_result"
    }
   ],
   "source": [
    "df.duplicated() "
   ]
  },
  {
   "cell_type": "code",
   "execution_count": 8,
   "id": "3df60362",
   "metadata": {},
   "outputs": [
    {
     "data": {
      "text/plain": [
       "0"
      ]
     },
     "execution_count": 8,
     "metadata": {},
     "output_type": "execute_result"
    }
   ],
   "source": [
    "df.duplicated().sum() "
   ]
  },
  {
   "cell_type": "code",
   "execution_count": 3,
   "id": "43982a22",
   "metadata": {},
   "outputs": [
    {
     "ename": "NameError",
     "evalue": "name 'df' is not defined",
     "output_type": "error",
     "traceback": [
      "\u001b[1;31m---------------------------------------------------------------------------\u001b[0m",
      "\u001b[1;31mNameError\u001b[0m                                 Traceback (most recent call last)",
      "\u001b[1;32m<ipython-input-3-37c2211b2c39>\u001b[0m in \u001b[0;36m<module>\u001b[1;34m\u001b[0m\n\u001b[0;32m      2\u001b[0m \u001b[1;33m\u001b[0m\u001b[0m\n\u001b[0;32m      3\u001b[0m \u001b[1;33m\u001b[0m\u001b[0m\n\u001b[1;32m----> 4\u001b[1;33m \u001b[0mnew_tab\u001b[0m \u001b[1;33m=\u001b[0m \u001b[0mdf\u001b[0m\u001b[1;33m.\u001b[0m\u001b[0mdrop\u001b[0m\u001b[1;33m(\u001b[0m\u001b[1;33m[\u001b[0m\u001b[1;34m\"Qty\"\u001b[0m\u001b[1;33m,\u001b[0m \u001b[1;34m\"mean_date\"\u001b[0m\u001b[1;33m]\u001b[0m\u001b[1;33m,\u001b[0m \u001b[0maxis\u001b[0m \u001b[1;33m=\u001b[0m \u001b[1;36m1\u001b[0m\u001b[1;33m)\u001b[0m\u001b[1;33m\u001b[0m\u001b[1;33m\u001b[0m\u001b[0m\n\u001b[0m\u001b[0;32m      5\u001b[0m \u001b[0mdisplay\u001b[0m\u001b[1;33m(\u001b[0m\u001b[0mnew_tab\u001b[0m\u001b[1;33m)\u001b[0m\u001b[1;33m\u001b[0m\u001b[1;33m\u001b[0m\u001b[0m\n",
      "\u001b[1;31mNameError\u001b[0m: name 'df' is not defined"
     ]
    }
   ],
   "source": [
    "# Deletar as colunas q nao necessarias p/ facilitar o trabalho/visualizacao (\"5S dos dados\")\n",
    "\n",
    "\n",
    "new_tab = df.drop([\"Qty\", \"mean_date\"], axis = 1) \n",
    "display(new_tab)"
   ]
  },
  {
   "cell_type": "code",
   "execution_count": null,
   "id": "62d0777a",
   "metadata": {},
   "outputs": [],
   "source": [
    "#Identificando o tipo de variavel para melhor entendimento dos dados\n",
    "\n",
    "new_tab.info()"
   ]
  },
  {
   "cell_type": "code",
   "execution_count": null,
   "id": "61fa7bb6",
   "metadata": {},
   "outputs": [],
   "source": [
    "new_tab.set_index(\"Invdate\",inplace=True)\n",
    "#axis_x = new_tab.get_index()\n",
    "new_tab\n"
   ]
  },
  {
   "cell_type": "code",
   "execution_count": null,
   "id": "382803be",
   "metadata": {},
   "outputs": [],
   "source": [
    "# Inplace mostrara agora como DatetimeIndex AS IS (Periodo:2016-05-02 to 2022-03-29) e antes era RangeIndex (acima).\n",
    "\n",
    "new_tab.info() "
   ]
  },
  {
   "cell_type": "code",
   "execution_count": null,
   "id": "08a19577",
   "metadata": {
    "scrolled": true
   },
   "outputs": [],
   "source": [
    "#Calculando a media das vendas de cada mes e agrupando por ano\n",
    "\n",
    "#means = round(new_tab.groupby([(new_tab.index.year), (new_tab.index.month)]).mean())\n",
    "#display(means)"
   ]
  },
  {
   "cell_type": "code",
   "execution_count": null,
   "id": "b1dd16a7",
   "metadata": {},
   "outputs": [],
   "source": [
    "#Visualizando os meses (eixo x index) e os anos\n",
    "index = means.index\n",
    "print(index)\n"
   ]
  },
  {
   "cell_type": "code",
   "execution_count": null,
   "id": "175577a8",
   "metadata": {},
   "outputs": [],
   "source": [
    "#Calculando a estatistica descritiva baseada nas medias dos meses para o periodo de maio 2016 a marco 2022 = 71 dados\n",
    "#Em media, as vendas medias foram de $108679 variando de $33419. Parecido com a mediana 50%, ou seja 50% das vendas medias\n",
    "#foram menores que $101879 e 50% maiores que esse mesmo valor. O menor e o maior valores de venda media foram\n",
    "# $52277,00 e $212947,00 respectivamente.\n",
    "\n",
    "round(means.describe())"
   ]
  },
  {
   "cell_type": "code",
   "execution_count": null,
   "id": "c04440b4",
   "metadata": {},
   "outputs": [],
   "source": [
    "#Percebe que para valores onde a media das vendas eh > 50% = $101879,00 as vendas variam mais de um mes p outro.\n",
    "# quando comparado com os valores menores que 50%. Tb houveram 3 dias que as vendas medias foram bem expressivas (altas)\n",
    "\n",
    "%matplotlib inline\n",
    "plt.boxplot(means)\n",
    "\n",
    "\n"
   ]
  },
  {
   "cell_type": "code",
   "execution_count": null,
   "id": "a10d3cf8",
   "metadata": {
    "scrolled": true
   },
   "outputs": [],
   "source": [
    "#Construindo o grafico sequencial: pelo grafico de medias das vendas percebe-se um crescimento de vendas ao longo tempo\n",
    "#208 & 2019 tiveram performances bem parecidas. Em 2020 houve uma venda media bem baixa (justificada pelo inicio da \n",
    "#pandemia) e chamando atencao para uma tendencia de crescimento nas vendas medias apos esse inicio.\n",
    "\n",
    "means.plot(figsize=(20,7))"
   ]
  },
  {
   "cell_type": "code",
   "execution_count": null,
   "id": "245cfee7",
   "metadata": {},
   "outputs": [],
   "source": [
    "import statsmodels.api as sm\n",
    "#import statsmodels.formula.api as smf\n",
    "\n",
    "from pylab import rcParams\n",
    "\n",
    "rcParams[\"figure.figsize\"] = 20, 7\n",
    "decomposition = sm.tsa.seasonal_decompose(Invdate, model=\"aditive\")\n",
    "fig = decomposition.plot\n",
    "plt.show()\n"
   ]
  }
 ],
 "metadata": {
  "kernelspec": {
   "display_name": "Python 3",
   "language": "python",
   "name": "python3"
  },
  "language_info": {
   "codemirror_mode": {
    "name": "ipython",
    "version": 3
   },
   "file_extension": ".py",
   "mimetype": "text/x-python",
   "name": "python",
   "nbconvert_exporter": "python",
   "pygments_lexer": "ipython3",
   "version": "3.8.8"
  }
 },
 "nbformat": 4,
 "nbformat_minor": 5
}
